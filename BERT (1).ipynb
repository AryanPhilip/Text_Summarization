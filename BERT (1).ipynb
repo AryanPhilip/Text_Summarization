{
  "cells": [
    {
      "cell_type": "markdown",
      "source": [
        "### Install the Libraries:\n",
        "\n",
        "The libraries used to run the Summarizer and Metrics."
      ],
      "metadata": {
        "id": "JrneA-K1Kte_"
      }
    },
    {
      "cell_type": "code",
      "execution_count": null,
      "metadata": {
        "id": "ew25zBRXoCU9"
      },
      "outputs": [],
      "source": [
        "!pip install bert-extractive-summarizer --quiet"
      ]
    },
    {
      "cell_type": "code",
      "source": [
        "!pip install torchmetrics --quiet"
      ],
      "metadata": {
        "id": "LqjtmrtmGMyH",
        "outputId": "b3dda806-29be-4882-b522-2fd6935ff22e",
        "colab": {
          "base_uri": "https://localhost:8080/"
        }
      },
      "execution_count": null,
      "outputs": [
        {
          "output_type": "stream",
          "name": "stdout",
          "text": [
            "\u001b[?25l     \u001b[90m━━━━━━━━━━━━━━━━━━━━━━━━━━━━━━━━━━━━━━━━\u001b[0m \u001b[32m0.0/806.1 kB\u001b[0m \u001b[31m?\u001b[0m eta \u001b[36m-:--:--\u001b[0m\r\u001b[2K     \u001b[91m━━━━\u001b[0m\u001b[90m╺\u001b[0m\u001b[90m━━━━━━━━━━━━━━━━━━━━━━━━━━━━━━━━━━━\u001b[0m \u001b[32m81.9/806.1 kB\u001b[0m \u001b[31m2.5 MB/s\u001b[0m eta \u001b[36m0:00:01\u001b[0m\r\u001b[2K     \u001b[91m━━━━━━━━━━━━━━━━━━━━━━━━━━━━━━━━━━━━━━━\u001b[0m\u001b[91m╸\u001b[0m \u001b[32m798.7/806.1 kB\u001b[0m \u001b[31m12.0 MB/s\u001b[0m eta \u001b[36m0:00:01\u001b[0m\r\u001b[2K     \u001b[90m━━━━━━━━━━━━━━━━━━━━━━━━━━━━━━━━━━━━━━━━\u001b[0m \u001b[32m806.1/806.1 kB\u001b[0m \u001b[31m9.7 MB/s\u001b[0m eta \u001b[36m0:00:00\u001b[0m\n",
            "\u001b[?25h"
          ]
        }
      ]
    },
    {
      "cell_type": "markdown",
      "source": [
        "### Importing the Libraries:\n",
        "\n"
      ],
      "metadata": {
        "id": "ImcDow85K7DB"
      }
    },
    {
      "cell_type": "code",
      "source": [
        "import warnings\n",
        "warnings.filterwarnings(\"ignore\")"
      ],
      "metadata": {
        "id": "3E3cP7pEGvVu"
      },
      "execution_count": null,
      "outputs": []
    },
    {
      "cell_type": "code",
      "execution_count": null,
      "metadata": {
        "id": "d4QmJLtLoLzM"
      },
      "outputs": [],
      "source": [
        "# Import the bert summarizer library to perform extractive text summarizer using a pretrained BERT model.\n",
        "from summarizer import Summarizer"
      ]
    },
    {
      "cell_type": "code",
      "source": [
        "from torchmetrics.text.rouge import ROUGEScore\n",
        "from pprint import pprint"
      ],
      "metadata": {
        "id": "50FgkHBaIFJI"
      },
      "execution_count": null,
      "outputs": []
    },
    {
      "cell_type": "code",
      "source": [
        "from pprint import pprint"
      ],
      "metadata": {
        "id": "RCwmowNDIvO3"
      },
      "execution_count": null,
      "outputs": []
    },
    {
      "cell_type": "markdown",
      "source": [
        "### Dataset\n",
        "\n",
        "A text corpus extracted from the MK^2 dataset to compare BERT vs LSA. This dataset is one of the corpus tested on where LSA outperforms BERT on ROUGE metrics."
      ],
      "metadata": {
        "id": "9KLRidqZG-rO"
      }
    },
    {
      "cell_type": "code",
      "source": [
        "body = \"\"\"I saw ABC back in Neuro-Oncology Clinic today. He comes in for an urgent visit because of increasing questions about what to do next for his anaplastic astrocytoma.\n",
        "Within the last several days, he has seen you in clinic and once again discussed whether or not to undergo radiation for his left temporal lesion. The patient has clearly been extremely ambivalent about this therapy for reasons that are not immediately apparent.\n",
        "It is clear that his MRI is progressing and that it seems unlikely at this time that anything other than radiation would be particularly effective.\n",
        "Despite repeatedly emphasizing this; however, the patient still is worried about potential long-term side effects from treatment that frankly seem unwarranted at this particular time.\n",
        "After seeing you in clinic, he and his friend again wanted to discuss possible changes in the chemotherapy regimen.\n",
        "They came in with a list of eight possible agents that they would like to be administered within the next two weeks.\n",
        "They then wanted another MRI to be performed and they were hoping that with the use of this type of approach, they might be able to induce another remission from which he can once again be spared radiation.\n",
        "From my view, I noticed a man whose language has deteriorated in the week since I last saw him. This is very worrisome.\n",
        "Today, for the first time, I felt that there was a definite right facial droop as well. Therefore, there is no doubt that he is becoming symptomatic from his growing tumor.\n",
        "It suggests that he is approaching the end of his compliance curve and that the things may rapidly deteriorate in the near future.\n",
        "Emphasizing this once again, in addition, to recommending steroids I once again tried to convince him to undergo radiation.\n",
        "Despite an hour, this again amazingly was not possible. It is not that he does not want treatment, however.\n",
        "Because I told him that I did not feel it was ethical to just put him on the radical regimen that him and his friend devised, we compromised and elected to go back to Temodar in a low dose daily type regimen.\n",
        "We would plan on giving 75 mg/sq m everyday for 21 days out of 28 days. In addition, we will stop thalidomide 100 mg/day. If he tolerates this for one week, we then agree that we would institute another one of the medications that he listed for us.\n",
        "At this stage, we are thinking of using Accutane at that point.\n",
        "While I am very uncomfortable with this type of approach, I think as long as he is going to be monitored closely that we may be able to get away with this for at least a reasonable interval.\n",
        "In the spirit of compromise, he again consented to be evaluated by radiation and this time, seemed more resigned to the fact that it was going to happen sooner than later.\n",
        "I will look at this as a positive sign because I think radiation is the one therapy from which he can get a reasonable response in the long term.\n",
        "I will keep you apprised of followups. If you have any questions or if I could be of any further assistance, feel free to contact me.\"\"\"\n"
      ],
      "metadata": {
        "id": "Gkpc9sXeEzJO"
      },
      "execution_count": null,
      "outputs": []
    },
    {
      "cell_type": "markdown",
      "source": [
        "### Model:\n",
        "\n",
        "Run the Model on the dataset and store the result."
      ],
      "metadata": {
        "id": "byrzkSVJKbV3"
      }
    },
    {
      "cell_type": "code",
      "source": [
        "# Instantiate the class\n",
        "model = Summarizer()\n",
        "result = model(body, num_sentences=8)  # Will return 8 sentences based on the sentence reranking algorithm (top_k sentences)"
      ],
      "metadata": {
        "id": "Td4r9IW5E4JO"
      },
      "execution_count": null,
      "outputs": []
    },
    {
      "cell_type": "markdown",
      "source": [
        "### Result:\n",
        "\n",
        "We extracted the top 8 sentences and displayed it."
      ],
      "metadata": {
        "id": "FYH8bcyyJ5_Z"
      }
    },
    {
      "cell_type": "code",
      "execution_count": null,
      "metadata": {
        "colab": {
          "base_uri": "https://localhost:8080/",
          "height": 71
        },
        "id": "nnmh8pSboYlP",
        "outputId": "41300292-14d5-4618-edf7-1f28231ebb6c"
      },
      "outputs": [
        {
          "output_type": "execute_result",
          "data": {
            "text/plain": [
              "'I saw ABC back in Neuro-Oncology Clinic today. He comes in for an urgent visit because of increasing questions about what to do next for his anaplastic astrocytoma. From my view, I noticed a man whose language has deteriorated in the week since I last saw him. Therefore, there is no doubt that he is becoming symptomatic from his growing tumor. It suggests that he is approaching the end of his compliance curve and that the things may rapidly deteriorate in the near future. It is not that he does not want treatment, however. In addition, we will stop thalidomide 100 mg/day. If he tolerates this for one week, we then agree that we would institute another one of the medications that he listed for us.'"
            ],
            "application/vnd.google.colaboratory.intrinsic+json": {
              "type": "string"
            }
          },
          "metadata": {},
          "execution_count": 19
        }
      ],
      "source": [
        "# The result of the summary top 8 sentences\n",
        "result"
      ]
    },
    {
      "cell_type": "markdown",
      "source": [
        "### Metrics:\n",
        "\n",
        "Torchmetrics library to print the ROUGE scores."
      ],
      "metadata": {
        "id": "bbAwjVhEJbp4"
      }
    },
    {
      "cell_type": "code",
      "execution_count": null,
      "metadata": {
        "colab": {
          "base_uri": "https://localhost:8080/"
        },
        "id": "8VSPc9wlppJZ",
        "outputId": "dc818c3a-a808-43c9-d3a3-3bd0c5db10da"
      },
      "outputs": [
        {
          "output_type": "stream",
          "name": "stdout",
          "text": [
            "{'rouge1_fmeasure': tensor(0.3804),\n",
            " 'rouge1_precision': tensor(0.2349),\n",
            " 'rouge1_recall': tensor(1.),\n",
            " 'rouge2_fmeasure': tensor(0.3666),\n",
            " 'rouge2_precision': tensor(0.2261),\n",
            " 'rouge2_recall': tensor(0.9685),\n",
            " 'rougeL_fmeasure': tensor(0.3804),\n",
            " 'rougeL_precision': tensor(0.2349),\n",
            " 'rougeL_recall': tensor(1.),\n",
            " 'rougeLsum_fmeasure': tensor(0.3804),\n",
            " 'rougeLsum_precision': tensor(0.2349),\n",
            " 'rougeLsum_recall': tensor(1.)}\n"
          ]
        }
      ],
      "source": [
        "rouge = ROUGEScore()\n",
        "pprint(rouge(body, result))"
      ]
    },
    {
      "cell_type": "markdown",
      "source": [
        "### Plot:\n",
        "\n",
        "A simple plot to show the F1 scores across different ROUGE variants."
      ],
      "metadata": {
        "id": "VHWAQ-gpJoL6"
      }
    },
    {
      "cell_type": "code",
      "execution_count": null,
      "metadata": {
        "colab": {
          "base_uri": "https://localhost:8080/",
          "height": 498
        },
        "id": "1Z2SmiXFp6WS",
        "outputId": "79294343-6778-4ad0-b639-6a4dba3704c0"
      },
      "outputs": [
        {
          "output_type": "display_data",
          "data": {
            "text/plain": [
              "<Figure size 640x480 with 1 Axes>"
            ],
            "image/png": "[encoded data removed]"
          },
          "metadata": {}
        }
      ],
      "source": [
        "metric = ROUGEScore()\n",
        "values = [ ]\n",
        "for _ in range(10):\n",
        "    values.append(rouge(body, result))\n",
        "fig_, ax_ = metric.plot(values)"
      ]
    },
    {
      "cell_type": "code",
      "execution_count": null,
      "metadata": {
        "id": "HAr38dfztCL3"
      },
      "outputs": [],
      "source": []
    }
  ],
  "metadata": {
    "colab": {
      "provenance": []
    },
    "kernelspec": {
      "display_name": "Python 3",
      "name": "python3"
    },
    "language_info": {
      "name": "python"
    }
  },
  "nbformat": 4,
  "nbformat_minor": 0
}